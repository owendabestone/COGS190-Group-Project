{
 "cells": [
  {
   "cell_type": "code",
   "execution_count": 1,
   "metadata": {},
   "outputs": [],
   "source": [
    "import pandas as pd\n",
    "import requests\n",
    "from bs4 import BeautifulSoup\n",
    "import re\n",
    "import os\n",
    "df = pd.read_csv(\"Spotify-2000.csv\")"
   ]
  },
  {
   "cell_type": "code",
   "execution_count": 14,
   "metadata": {},
   "outputs": [],
   "source": [
    "def combine(x):\n",
    "    out = ''\n",
    "    for i in x.split(' '):\n",
    "        out = out + '-'+ i \n",
    "    \n",
    "    return out\n",
    "\n",
    "def scrape_song_lyrics(url):\n",
    "    page = requests.get(url)\n",
    "    html = BeautifulSoup(page.text, 'html.parser')\n",
    "    try:\n",
    "        lyrics = html.find('div', class_='lyrics').get_text()\n",
    "    except:\n",
    "        return None\n",
    "\n",
    "    #remove identifiers like chorus, verse, etc\n",
    "    lyrics = re.sub(r'[\\(\\[].*?[\\)\\]]', '', lyrics)\n",
    "    #remove empty lines\n",
    "    lyrics = os.linesep.join([s for s in lyrics.splitlines() if s])         \n",
    "    return lyrics"
   ]
  },
  {
   "cell_type": "code",
   "execution_count": 15,
   "metadata": {},
   "outputs": [
    {
     "data": {
      "text/plain": [
       "0           -sunrise\n",
       "1       -black-night\n",
       "2    -clint-eastwood\n",
       "Name: Title, dtype: object"
      ]
     },
     "execution_count": 15,
     "metadata": {},
     "output_type": "execute_result"
    }
   ],
   "source": [
    "str_lower = str.lower\n",
    "\n",
    "titles = df['Title'].apply(str_lower).apply(combine)\n",
    "artists = df['Artist'].apply(str_lower).apply(combine)\n",
    "titles = titles[0:3]\n",
    "artists = artists[0:3]\n",
    "\n",
    "\n",
    "titles"
   ]
  },
  {
   "cell_type": "code",
   "execution_count": 19,
   "metadata": {},
   "outputs": [
    {
     "name": "stdout",
     "output_type": "stream",
     "text": [
      "0\n",
      "0\n",
      "0\n"
     ]
    }
   ],
   "source": [
    "dictionary = {}\n",
    "for title, artist in zip(titles,artists):\n",
    "    counter = 0 \n",
    "    print(counter)\n",
    "    counter = counter+1\n",
    "\n",
    "    URL = 'https://genius.com/'+artist[1::]+title +'-lyrics'\n",
    "    contain = scrape_song_lyrics(URL)\n",
    "    dictionary[title] = contain"
   ]
  },
  {
   "cell_type": "code",
   "execution_count": 24,
   "metadata": {},
   "outputs": [
    {
     "data": {
      "text/plain": [
       "\"Sunrise, sunrise Looks like mornin' in your eyes But the clock's held 9:15 for hours Sunrise, sunrise Couldn't tempt us if it tried 'Cause the afternoon's already come and gone And I said Hoo-ooh-ooh-ooh Hoo-ooh-ooh-ooh Hoo-ooh-ooh-ooh To you Surprise, surprise Couldn't find it in your eyes But I'm sure it's written all over my face Surprise, surprise Never something I could hide When I see we made it through another day And I said Hoo-ooh-ooh-ooh Hoo-ooh-ooh-ooh Hoo-ooh-ooh-ooh To you Now the night Will throw its cover down On me again Ooh, and if I'm right It's the only way To bring me back Hoo-ooh-ooh-ooh Hoo-ooh-ooh-ooh Hoo-ooh-ooh-ooh To you Hoo-ooh-yeah Hoo-ooh-ooh-ooh Hoo-ooh-ooh-ooh To you\""
      ]
     },
     "execution_count": 24,
     "metadata": {},
     "output_type": "execute_result"
    }
   ],
   "source": [
    "dictionary[titles[0]].replace('\\r\\n',' ')\n"
   ]
  },
  {
   "cell_type": "code",
   "execution_count": null,
   "metadata": {},
   "outputs": [],
   "source": []
  },
  {
   "cell_type": "code",
   "execution_count": null,
   "metadata": {},
   "outputs": [],
   "source": []
  },
  {
   "cell_type": "code",
   "execution_count": null,
   "metadata": {},
   "outputs": [],
   "source": []
  },
  {
   "cell_type": "code",
   "execution_count": null,
   "metadata": {},
   "outputs": [],
   "source": []
  },
  {
   "cell_type": "code",
   "execution_count": null,
   "metadata": {},
   "outputs": [],
   "source": []
  }
 ],
 "metadata": {
  "kernelspec": {
   "display_name": "Python 3",
   "language": "python",
   "name": "python3"
  },
  "language_info": {
   "codemirror_mode": {
    "name": "ipython",
    "version": 3
   },
   "file_extension": ".py",
   "mimetype": "text/x-python",
   "name": "python",
   "nbconvert_exporter": "python",
   "pygments_lexer": "ipython3",
   "version": "3.8.5"
  }
 },
 "nbformat": 4,
 "nbformat_minor": 4
}
